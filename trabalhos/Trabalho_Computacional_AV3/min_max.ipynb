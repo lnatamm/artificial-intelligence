{
 "cells": [
  {
   "cell_type": "markdown",
   "id": "c92a76dc",
   "metadata": {},
   "source": [
    "### imports"
   ]
  },
  {
   "cell_type": "code",
   "execution_count": null,
   "id": "d4193f87",
   "metadata": {},
   "outputs": [],
   "source": [
    "from algoritmos.otimizacao import *\n",
    "import numpy as np\n",
    "import matplotlib.pyplot as plt"
   ]
  },
  {
   "cell_type": "markdown",
   "id": "525fa68e",
   "metadata": {},
   "source": [
    "# 1. $f(x_1, x_2) = x_1^2 + x_2^2$"
   ]
  },
  {
   "cell_type": "markdown",
   "id": "47f4ccd0",
   "metadata": {},
   "source": [
    "## Hill-Climbing"
   ]
  },
  {
   "cell_type": "code",
   "execution_count": null,
   "id": "2d9f5331",
   "metadata": {},
   "outputs": [],
   "source": [
    "def f(x1, x2):\n",
    "    return x1**2 + x2**2"
   ]
  },
  {
   "cell_type": "markdown",
   "id": "d78b166c",
   "metadata": {},
   "source": [
    "## Local Random Search - LRS"
   ]
  },
  {
   "cell_type": "code",
   "execution_count": null,
   "id": "66bfe309",
   "metadata": {},
   "outputs": [],
   "source": [
    "def f(x1, x2):\n",
    "    return x1**2 + x2**2"
   ]
  },
  {
   "cell_type": "markdown",
   "id": "7364586d",
   "metadata": {},
   "source": [
    "## Global Random Search - GRS"
   ]
  },
  {
   "cell_type": "code",
   "execution_count": null,
   "id": "ced64654",
   "metadata": {},
   "outputs": [],
   "source": [
    "def f(x1, x2):\n",
    "    return x1**2 + x2**2"
   ]
  },
  {
   "cell_type": "markdown",
   "id": "e26dd896",
   "metadata": {},
   "source": [
    "# 2. $f(x_1, x_2) = e^{(x_2 - 1 + x_2^2)} + 2e^{(x_1 - 17)^2 + (x_2 - 17)^2}$"
   ]
  },
  {
   "cell_type": "markdown",
   "id": "d79b7b18",
   "metadata": {},
   "source": [
    "## Hill-Climbing"
   ]
  },
  {
   "cell_type": "code",
   "execution_count": null,
   "id": "3875fb21",
   "metadata": {},
   "outputs": [],
   "source": [
    "def f(x1, x2):\n",
    "    return np.exp(x2-1+x2**2) + 2*np.exp(((x1 - 17)**2) + ((x2 - 17)**2))"
   ]
  },
  {
   "cell_type": "markdown",
   "id": "0f95afa2",
   "metadata": {},
   "source": [
    "## Local Random Search - LRS"
   ]
  },
  {
   "cell_type": "code",
   "execution_count": null,
   "id": "37e885f6",
   "metadata": {},
   "outputs": [],
   "source": [
    "def f(x1, x2):\n",
    "    return np.exp(x2-1+x2**2) + 2*np.exp(((x1 - 17)**2) + ((x2 - 17)**2))"
   ]
  },
  {
   "cell_type": "markdown",
   "id": "1d469080",
   "metadata": {},
   "source": [
    "## Global Random Search - GRS"
   ]
  },
  {
   "cell_type": "code",
   "execution_count": null,
   "id": "f6024196",
   "metadata": {},
   "outputs": [],
   "source": [
    "def f(x1, x2):\n",
    "    return np.exp(x2-1+x2**2) + 2*np.exp(((x1 - 17)**2) + ((x2 - 17)**2))"
   ]
  },
  {
   "cell_type": "markdown",
   "id": "04eedf3e",
   "metadata": {},
   "source": [
    "# 3. $f(x_1, x_2) = -20 \\cdot e^{-0.2 \\cdot \\sqrt{0.5(x_1^2 + x_2^2)}} - e^{0.5(\\cos(2\\pi x_1) + \\cos(2\\pi x_2))} + 20 + e$"
   ]
  },
  {
   "cell_type": "markdown",
   "id": "2c413c86",
   "metadata": {},
   "source": [
    "## Hill-Climbing"
   ]
  },
  {
   "cell_type": "code",
   "execution_count": null,
   "id": "8e8db57e",
   "metadata": {},
   "outputs": [],
   "source": [
    "def f(x1, x2):\n",
    "    term1 = -20 * np.exp(-0.2 * np.sqrt(0.5 * (x1**2 + x2**2)))\n",
    "    term2 = -np.exp(0.5 * (np.cos(2 * np.pi * x1) + np.cos(2 * np.pi * x2)))\n",
    "    return term1 + term2 + 20 + np.e"
   ]
  },
  {
   "cell_type": "markdown",
   "id": "a44bdc5c",
   "metadata": {},
   "source": [
    "## Local Random Search - LRS"
   ]
  },
  {
   "cell_type": "code",
   "execution_count": null,
   "id": "595b34fa",
   "metadata": {},
   "outputs": [],
   "source": [
    "def f(x1, x2):\n",
    "    term1 = -20 * np.exp(-0.2 * np.sqrt(0.5 * (x1**2 + x2**2)))\n",
    "    term2 = -np.exp(0.5 * (np.cos(2 * np.pi * x1) + np.cos(2 * np.pi * x2)))\n",
    "    return term1 + term2 + 20 + np.e"
   ]
  },
  {
   "cell_type": "markdown",
   "id": "2b35a9a1",
   "metadata": {},
   "source": [
    "## Global Random Search - GRS"
   ]
  },
  {
   "cell_type": "code",
   "execution_count": null,
   "id": "8d31240e",
   "metadata": {},
   "outputs": [],
   "source": [
    "def f(x1, x2):\n",
    "    term1 = -20 * np.exp(-0.2 * np.sqrt(0.5 * (x1**2 + x2**2)))\n",
    "    term2 = -np.exp(0.5 * (np.cos(2 * np.pi * x1) + np.cos(2 * np.pi * x2)))\n",
    "    return term1 + term2 + 20 + np.e"
   ]
  },
  {
   "cell_type": "markdown",
   "id": "cba5dc73",
   "metadata": {},
   "source": [
    "# 4. $f(x_1, x_2) = (x_1^2 - 10 \\cdot \\cos(2\\pi x_1) + 10) + (x_2^2 - 10 \\cdot \\cos(2\\pi x_2) + 10)$"
   ]
  },
  {
   "cell_type": "markdown",
   "id": "cb2698c5",
   "metadata": {},
   "source": [
    "## Hill-Climbing"
   ]
  },
  {
   "cell_type": "code",
   "execution_count": null,
   "id": "82af333f",
   "metadata": {},
   "outputs": [],
   "source": [
    "def f(x1, x2):\n",
    "    return (x1**2 - 10 * np.cos(2 * np.pi * x1) + 10) + (x2**2 - 10 * np.cos(2 * np.pi * x2) + 10)"
   ]
  },
  {
   "cell_type": "markdown",
   "id": "8e55351c",
   "metadata": {},
   "source": [
    "## Local Random Search - LRS"
   ]
  },
  {
   "cell_type": "code",
   "execution_count": null,
   "id": "e585668a",
   "metadata": {},
   "outputs": [],
   "source": [
    "def f(x1, x2):\n",
    "    return (x1**2 - 10 * np.cos(2 * np.pi * x1) + 10) + (x2**2 - 10 * np.cos(2 * np.pi * x2) + 10)"
   ]
  },
  {
   "cell_type": "markdown",
   "id": "b9fea5fd",
   "metadata": {},
   "source": [
    "## Global Random Search - GRS"
   ]
  },
  {
   "cell_type": "code",
   "execution_count": null,
   "id": "b9c7015e",
   "metadata": {},
   "outputs": [],
   "source": [
    "def f(x1, x2):\n",
    "    return (x1**2 - 10 * np.cos(2 * np.pi * x1) + 10) + (x2**2 - 10 * np.cos(2 * np.pi * x2) + 10)"
   ]
  },
  {
   "cell_type": "markdown",
   "id": "d746cc82",
   "metadata": {},
   "source": [
    "# 5. $f(x_1, x_2) = \\frac{x_1 \\cdot \\cos(x_1)}{20} + 2 \\cdot e^{(-x_1^2 - (x_2 - 1)^2)} + 0{,}01 \\cdot x_1 \\cdot x_2$"
   ]
  },
  {
   "cell_type": "markdown",
   "id": "118f5d55",
   "metadata": {},
   "source": [
    "## Hill-Climbing"
   ]
  },
  {
   "cell_type": "code",
   "execution_count": null,
   "id": "b69970cf",
   "metadata": {},
   "outputs": [],
   "source": [
    "def f(x1, x2):\n",
    "    return (x1 * np.cos(x1)) / 20 + 2 * np.exp((-x1**2 - (x2 - 1)**2)) + 0.01 * x1 * x2\n"
   ]
  },
  {
   "cell_type": "markdown",
   "id": "dec1274c",
   "metadata": {},
   "source": [
    "## Local Random Search - LRS"
   ]
  },
  {
   "cell_type": "code",
   "execution_count": null,
   "id": "66179649",
   "metadata": {},
   "outputs": [],
   "source": [
    "def f(x1, x2):\n",
    "    return np.exp(x2-1+x2**2) + 2*np.exp(((x1 - 17)**2) + ((x2 - 17)**2))"
   ]
  },
  {
   "cell_type": "markdown",
   "id": "fab33ac3",
   "metadata": {},
   "source": [
    "## Global Random Search - GRS"
   ]
  },
  {
   "cell_type": "code",
   "execution_count": null,
   "id": "fb9b7419",
   "metadata": {},
   "outputs": [],
   "source": [
    "def f(x1, x2):\n",
    "    return np.exp(x2-1+x2**2) + 2*np.exp(((x1 - 17)**2) + ((x2 - 17)**2))"
   ]
  }
 ],
 "metadata": {
  "kernelspec": {
   "display_name": "venv",
   "language": "python",
   "name": "python3"
  },
  "language_info": {
   "name": "python",
   "version": "3.13.2"
  }
 },
 "nbformat": 4,
 "nbformat_minor": 5
}
